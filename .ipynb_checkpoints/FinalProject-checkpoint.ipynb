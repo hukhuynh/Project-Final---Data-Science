{
 "cells": [
  {
   "cell_type": "code",
   "execution_count": 12,
   "metadata": {},
   "outputs": [],
   "source": [
    "import lyricwikia\n",
    "import pandas as pd\n",
    "\n",
    "df = pd.read_csv(\"pop_playlist_project.csv\")\n",
    "df.columns = ['Spotify_URI','TrackName','ArtistName','AlbumName','DiscNum','TrackNum','TrackDur','AddedBy','AddedAt']\n",
    "lyrics = \"\"\n",
    "\n",
    "for i in range(len(df)):\n",
    "    try:\n",
    "        lyrics_temp = lyricwikia.get_lyrics(df.ArtistName[i], df.TrackName[i])\n",
    "        lyrics=lyrics+lyrics_temp\n",
    "    except:\n",
    "        continue"
   ]
  },
  {
   "cell_type": "code",
   "execution_count": 13,
   "metadata": {},
   "outputs": [],
   "source": [
    "import numpy\n",
    "from keras.models import Sequential\n",
    "from keras.layers import Dense\n",
    "from keras.layers import Dropout\n",
    "from keras.layers import LSTM\n",
    "from keras.utils import np_utils"
   ]
  },
  {
   "cell_type": "code",
   "execution_count": 14,
   "metadata": {},
   "outputs": [
    {
     "name": "stdout",
     "output_type": "stream",
     "text": [
      "Total Words:  162759\n",
      "Total Vocab:  5081\n"
     ]
    }
   ],
   "source": [
    "import re\n",
    "raw_text = lyrics.lower()\n",
    "wordList = re.sub('[^\\w]',' ',raw_text).split()\n",
    "word_list =[]\n",
    "#append to word_list to get rid of any duplicate words\n",
    "wl = [word_list.append(item) for item in wordList if item not in word_list]\n",
    "    \n",
    "    \n",
    "#chars = sorted(list(set(raw_text)))\n",
    "word_to_int = dict((c,i) for i, c in enumerate(word_list))\n",
    "\n",
    "\n",
    "n_words = len(wordList)\n",
    "n_vocab = len(word_list)\n",
    "print(\"Total Words: \", n_words)\n",
    "print(\"Total Vocab: \",n_vocab)"
   ]
  },
  {
   "cell_type": "code",
   "execution_count": 15,
   "metadata": {},
   "outputs": [
    {
     "name": "stdout",
     "output_type": "stream",
     "text": [
      "Total Patterns:  162754\n"
     ]
    }
   ],
   "source": [
    "seq_length = 5\n",
    "dataX = []\n",
    "dataY = []\n",
    "\n",
    "\n",
    "\n",
    "for i in range(0,n_words - seq_length,1):\n",
    "    seq_in = wordList[i:i + seq_length]\n",
    "    #seq_in = re.sub('[^\\w]',' ',seq_in).split()\n",
    "\n",
    "    seq_out = wordList[i + seq_length]\n",
    "    \n",
    "    dataX.append([word_to_int[string] for string in seq_in])\n",
    "    \n",
    "    \n",
    "    dataY.append(word_to_int[seq_out])\n",
    "    \n",
    "n_patterns = len(dataX)\n",
    "print(\"Total Patterns: \",n_patterns)\n"
   ]
  },
  {
   "cell_type": "code",
   "execution_count": 16,
   "metadata": {},
   "outputs": [],
   "source": [
    "X = numpy.reshape(dataX,(n_patterns,seq_length,1))\n",
    "X = X/float(n_vocab)\n",
    "y=np_utils.to_categorical(dataY)"
   ]
  },
  {
   "cell_type": "code",
   "execution_count": 17,
   "metadata": {},
   "outputs": [],
   "source": [
    "model = Sequential()\n",
    "model.add(LSTM(256,input_shape=(X.shape[1],X.shape[2]),return_sequences = True))\n",
    "model.add(Dropout(0.2))\n",
    "model.add(LSTM(256))\n",
    "model.add(Dropout(0.2))\n",
    "model.add(Dense(y.shape[1],activation='softmax'))"
   ]
  },
  {
   "cell_type": "code",
   "execution_count": 10,
   "metadata": {},
   "outputs": [
    {
     "name": "stdout",
     "output_type": "stream",
     "text": [
      "Loaded model from disk\n"
     ]
    }
   ],
   "source": [
    "from keras.models import model_from_json\n",
    "# load json and create model\n",
    "json_file = open('model_word.json', 'r')\n",
    "loaded_model_json = json_file.read()\n",
    "json_file.close()\n",
    "model = model_from_json(loaded_model_json)\n",
    "# load weights into new model\n",
    "model.load_weights(\"model_word.h5\")\n",
    "print(\"Loaded model from disk\")\n",
    "json_file.close()"
   ]
  },
  {
   "cell_type": "code",
   "execution_count": 20,
   "metadata": {},
   "outputs": [
    {
     "name": "stdout",
     "output_type": "stream",
     "text": [
      "Epoch 1/20\n",
      "162754/162754 [==============================] - 336s 2ms/step - loss: 5.9066\n",
      "Epoch 2/20\n",
      "162754/162754 [==============================] - 333s 2ms/step - loss: 5.7547 0s - l\n",
      "Epoch 3/20\n",
      "162754/162754 [==============================] - 357s 2ms/step - loss: 5.6430\n",
      "Epoch 4/20\n",
      "162754/162754 [==============================] - 328s 2ms/step - loss: 5.5242\n",
      "Epoch 5/20\n",
      "162754/162754 [==============================] - 332s 2ms/step - loss: 5.3851\n",
      "Epoch 6/20\n",
      "162754/162754 [==============================] - 334s 2ms/step - loss: 5.2377 0s - loss:\n",
      "Epoch 7/20\n",
      "162754/162754 [==============================] - 332s 2ms/step - loss: 5.0858\n",
      "Epoch 8/20\n",
      "162754/162754 [==============================] - 327s 2ms/step - loss: 4.9348\n",
      "Epoch 9/20\n",
      "162754/162754 [==============================] - 325s 2ms/step - loss: 4.7897\n",
      "Epoch 10/20\n",
      "162754/162754 [==============================] - 338s 2ms/step - loss: 4.6595\n",
      "Epoch 11/20\n",
      "162754/162754 [==============================] - 338s 2ms/step - loss: 4.5319\n",
      "Epoch 12/20\n",
      "162754/162754 [==============================] - 338s 2ms/step - loss: 4.4140\n",
      "Epoch 13/20\n",
      "162754/162754 [==============================] - 338s 2ms/step - loss: 4.3036\n",
      "Epoch 14/20\n",
      "162754/162754 [==============================] - 5922s 36ms/step - loss: 4.1983\n",
      "Epoch 15/20\n",
      "162754/162754 [==============================] - 485s 3ms/step - loss: 4.1027\n",
      "Epoch 16/20\n",
      "162754/162754 [==============================] - 527s 3ms/step - loss: 4.0161\n",
      "Epoch 17/20\n",
      "162754/162754 [==============================] - 563s 3ms/step - loss: 3.9309\n",
      "Epoch 18/20\n",
      "162754/162754 [==============================] - 545s 3ms/step - loss: 3.8525\n",
      "Epoch 19/20\n",
      "162754/162754 [==============================] - 514s 3ms/step - loss: 3.7783\n",
      "Epoch 20/20\n",
      "162754/162754 [==============================] - 533s 3ms/step - loss: 3.7104\n"
     ]
    },
    {
     "data": {
      "text/plain": [
       "<keras.callbacks.History at 0x24364690eb8>"
      ]
     },
     "execution_count": 20,
     "metadata": {},
     "output_type": "execute_result"
    }
   ],
   "source": [
    "model.compile(loss='categorical_crossentropy',optimizer='adam')\n",
    "model.fit(X,y,epochs=20,batch_size=32)"
   ]
  },
  {
   "cell_type": "code",
   "execution_count": 21,
   "metadata": {},
   "outputs": [
    {
     "name": "stdout",
     "output_type": "stream",
     "text": [
      "['a', 'set', 'of', 'words', 'that', 'is', 'text', 'in', 'love', 'yes', 'with', 'a', 'win', 'and', 'girl', 'finding', 'a', 'state', 'of', 'happy']\n",
      " good on s i didn you i re a i need gonna i my stay signi no go i m me when thing you but had t this shake i m can still show girl run don good i lord around i ll do at ain i never and in let time want somebody that miss no more can time it i hope been is make always to know t now it i let your i a i my demons always if to changing i mind something ever growing about cause your my fall i you i for that the\n"
     ]
    }
   ],
   "source": [
    "int_to_word = dict((i,c) for i, c in enumerate(word_list))\n",
    "\n",
    "#start = numpy.random.randint(0,len(dataX)-1)\n",
    "#pattern = dataX[start]\n",
    "initial_text='a set of words that is text in love, yes with a win and girl, finding a state of happy'\n",
    "initial_text = re.sub('[^\\w]',' ',initial_text).split()\n",
    "print(initial_text)\n",
    "pattern=[word_to_int[string] for string in initial_text]\n",
    "pattern=pattern[0:seq_length]\n",
    "\n",
    "#initial_text will be our user input, here it must be about 7 chars in length(including spaces)\"\n",
    "text_gen=\"\"\n",
    "\n",
    "for i in range(100):\n",
    "    x = numpy.reshape(pattern,(1,len(pattern),1))\n",
    "    x = x/float(n_vocab)\n",
    "    prediction = model.predict(x,verbose=0)\n",
    "    prediction = prediction[0]\n",
    "    index = numpy.random.choice(len(prediction),p=prediction)\n",
    "    #index = numpy.argmax(prediction)\n",
    "    result = int_to_word[index]\n",
    "    text_gen = text_gen +' ' + result\n",
    "    pattern.append(index)\n",
    "    pattern = pattern[1:len(pattern)]\n",
    "print(text_gen)\n",
    "    \n"
   ]
  },
  {
   "cell_type": "code",
   "execution_count": 22,
   "metadata": {},
   "outputs": [
    {
     "name": "stdout",
     "output_type": "stream",
     "text": [
      "Epoch 1/20\n",
      "162754/162754 [==============================] - 6020s 37ms/step - loss: 3.7972\n",
      "Epoch 2/20\n",
      "162754/162754 [==============================] - 533s 3ms/step - loss: 3.7562\n",
      "Epoch 3/20\n",
      "162754/162754 [==============================] - 523s 3ms/step - loss: 3.7257\n",
      "Epoch 4/20\n",
      "162754/162754 [==============================] - 567s 3ms/step - loss: 3.6798\n",
      "Epoch 5/20\n",
      "162754/162754 [==============================] - 610s 4ms/step - loss: 3.6404\n",
      "Epoch 6/20\n",
      "162754/162754 [==============================] - 624s 4ms/step - loss: 3.5960\n",
      "Epoch 7/20\n",
      "162754/162754 [==============================] - 615s 4ms/step - loss: 3.5514\n",
      "Epoch 8/20\n",
      "162754/162754 [==============================] - 624s 4ms/step - loss: 3.5079\n",
      "Epoch 9/20\n",
      "162754/162754 [==============================] - 618s 4ms/step - loss: 3.4688\n",
      "Epoch 10/20\n",
      "162754/162754 [==============================] - 621s 4ms/step - loss: 3.4315\n",
      "Epoch 11/20\n",
      "162754/162754 [==============================] - 611s 4ms/step - loss: 3.3955\n",
      "Epoch 12/20\n",
      "162754/162754 [==============================] - 616s 4ms/step - loss: 3.3578\n",
      "Epoch 13/20\n",
      "162754/162754 [==============================] - 617s 4ms/step - loss: 3.3236\n",
      "Epoch 14/20\n",
      "162754/162754 [==============================] - 520s 3ms/step - loss: 3.2896\n",
      "Epoch 15/20\n",
      "162754/162754 [==============================] - 558s 3ms/step - loss: 3.2569\n",
      "Epoch 16/20\n",
      "162754/162754 [==============================] - 565s 3ms/step - loss: 3.2306\n",
      "Epoch 17/20\n",
      "162754/162754 [==============================] - 558s 3ms/step - loss: 3.2019\n",
      "Epoch 18/20\n",
      "162754/162754 [==============================] - 531s 3ms/step - loss: 3.1711\n",
      "Epoch 19/20\n",
      "162754/162754 [==============================] - 602s 4ms/step - loss: 3.1477\n",
      "Epoch 20/20\n",
      "162754/162754 [==============================] - 602s 4ms/step - loss: 3.1207\n"
     ]
    },
    {
     "data": {
      "text/plain": [
       "<keras.callbacks.History at 0x243648b4cc0>"
      ]
     },
     "execution_count": 22,
     "metadata": {},
     "output_type": "execute_result"
    }
   ],
   "source": [
    "model.fit(X,y,epochs=20,batch_size=16)"
   ]
  },
  {
   "cell_type": "code",
   "execution_count": 10,
   "metadata": {},
   "outputs": [
    {
     "ename": "NameError",
     "evalue": "name 'chars' is not defined",
     "output_type": "error",
     "traceback": [
      "\u001b[1;31m---------------------------------------------------------------------------\u001b[0m",
      "\u001b[1;31mNameError\u001b[0m                                 Traceback (most recent call last)",
      "\u001b[1;32m<ipython-input-10-05a26296418a>\u001b[0m in \u001b[0;36m<module>\u001b[1;34m()\u001b[0m\n\u001b[1;32m----> 1\u001b[1;33m \u001b[0mint_to_char\u001b[0m \u001b[1;33m=\u001b[0m \u001b[0mdict\u001b[0m\u001b[1;33m(\u001b[0m\u001b[1;33m(\u001b[0m\u001b[0mi\u001b[0m\u001b[1;33m,\u001b[0m \u001b[0mc\u001b[0m\u001b[1;33m)\u001b[0m \u001b[1;32mfor\u001b[0m \u001b[0mi\u001b[0m\u001b[1;33m,\u001b[0m \u001b[0mc\u001b[0m \u001b[1;32min\u001b[0m \u001b[0menumerate\u001b[0m\u001b[1;33m(\u001b[0m\u001b[0mchars\u001b[0m\u001b[1;33m)\u001b[0m\u001b[1;33m)\u001b[0m\u001b[1;33m\u001b[0m\u001b[0m\n\u001b[0m\u001b[0;32m      2\u001b[0m \u001b[1;31m#initial_text=\"these lyrics are for my new great rock song about iupui and these lyrics are for my new great rock song about data\"\u001b[0m\u001b[1;33m\u001b[0m\u001b[1;33m\u001b[0m\u001b[0m\n\u001b[0;32m      3\u001b[0m \u001b[1;31m#pattern=[char_to_int[char] for char in initial_text]\u001b[0m\u001b[1;33m\u001b[0m\u001b[1;33m\u001b[0m\u001b[0m\n\u001b[0;32m      4\u001b[0m \u001b[1;31m#pattern=pattern[0:seq_length]\u001b[0m\u001b[1;33m\u001b[0m\u001b[1;33m\u001b[0m\u001b[0m\n\u001b[0;32m      5\u001b[0m \u001b[1;33m\u001b[0m\u001b[0m\n",
      "\u001b[1;31mNameError\u001b[0m: name 'chars' is not defined"
     ]
    }
   ],
   "source": [
    "int_to_char = dict((i, c) for i, c in enumerate(chars))\n",
    "#initial_text=\"these lyrics are for my new great rock song about iupui and these lyrics are for my new great rock song about data\"\n",
    "#pattern=[char_to_int[char] for char in initial_text]\n",
    "#pattern=pattern[0:seq_length]\n",
    "\n",
    "start = numpy.random.randint(0, len(dataX)-1)\n",
    "pattern = dataX[start]\n",
    "\n",
    "text_gen=\"\"\n",
    "\n",
    "# generate characters\n",
    "for i in range(1000):\n",
    "    x = numpy.reshape(pattern, (1, len(pattern), 1))\n",
    "    x = x / float(n_vocab)\n",
    "    prediction = model.predict(x, verbose=0)\n",
    "    prediction = prediction[0]\n",
    "#    index = numpy.random.choice(len(prediction), p=prediction)\n",
    "    index = numpy.argmax(prediction)\n",
    "    result = int_to_char[index]\n",
    "    text_gen=text_gen+result\n",
    "    pattern.append(index)\n",
    "    pattern = pattern[1:len(pattern)]\n",
    "\n",
    "print(text_gen)"
   ]
  },
  {
   "cell_type": "code",
   "execution_count": 23,
   "metadata": {},
   "outputs": [
    {
     "name": "stdout",
     "output_type": "stream",
     "text": [
      "Saved model to disk\n"
     ]
    }
   ],
   "source": [
    "# serialize model to JSON\n",
    "model_json = model.to_json()\n",
    "with open(\"model_word.json\", \"w\") as json_file:\n",
    "    json_file.write(model_json)\n",
    "# serialize weights to HDF5\n",
    "model.save_weights(\"model_word.h5\")\n",
    "print(\"Saved model to disk\")"
   ]
  },
  {
   "cell_type": "code",
   "execution_count": 24,
   "metadata": {},
   "outputs": [],
   "source": [
    "import pickle\n",
    "pickle_out = open(\"wordDict.pickle\",\"wb\")\n",
    "pickle.dump(word_to_int, pickle_out)\n",
    "pickle_out.close()"
   ]
  },
  {
   "cell_type": "code",
   "execution_count": 25,
   "metadata": {},
   "outputs": [],
   "source": [
    "pickle_out = open(\"dictWord.pickle\",\"wb\")\n",
    "pickle.dump(int_to_word, pickle_out)\n",
    "pickle_out.close()"
   ]
  },
  {
   "cell_type": "code",
   "execution_count": null,
   "metadata": {},
   "outputs": [],
   "source": []
  }
 ],
 "metadata": {
  "kernelspec": {
   "display_name": "Python 3",
   "language": "python",
   "name": "python3"
  },
  "language_info": {
   "codemirror_mode": {
    "name": "ipython",
    "version": 3
   },
   "file_extension": ".py",
   "mimetype": "text/x-python",
   "name": "python",
   "nbconvert_exporter": "python",
   "pygments_lexer": "ipython3",
   "version": "3.6.2"
  }
 },
 "nbformat": 4,
 "nbformat_minor": 2
}
